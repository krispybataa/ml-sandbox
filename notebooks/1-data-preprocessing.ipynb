{
 "cells": [
  {
   "cell_type": "markdown",
   "id": "e7f93a07",
   "metadata": {},
   "source": [
    "# 1 | DATA PREPROCESSING \n",
    "This notebook goes over the basic things that can be done during the preprocessing phase of a Machine Learning run. \n",
    "- Importing Required Libraries \n",
    "- Importing Dataset \n",
    "- Handling Missing Data \n",
    "- Encoding Categorical Data \n",
    "- Splitting Data Into Training and test\n",
    "- Feature Scaling "
   ]
  },
  {
   "cell_type": "markdown",
   "id": "8ebb7c2e",
   "metadata": {},
   "source": [
    "## 1.1 Importing Necessary Libraries "
   ]
  },
  {
   "cell_type": "code",
   "execution_count": 49,
   "id": "7619df79",
   "metadata": {},
   "outputs": [],
   "source": [
    "# Most basic libraries needed for preprocessing \n",
    "import numpy as np \n",
    "import pandas as pd "
   ]
  },
  {
   "cell_type": "markdown",
   "id": "126f0d19",
   "metadata": {},
   "source": [
    "## 1.2 Importing Dataset "
   ]
  },
  {
   "cell_type": "code",
   "execution_count": 54,
   "id": "c3be7ed9",
   "metadata": {},
   "outputs": [],
   "source": [
    "# Import below was adjusted for unique encoding style \n",
    "df = pd.read_csv('datasets/1-data-preprocessing.csv')\n",
    "# df = pd.read_csv('datasets/1-cars-dataset-2025.csv', encoding = 'cp1252')\n",
    "X = df.iloc[ :, :-1].values\n",
    "Y = df.iloc[ :, 3].values\n"
   ]
  },
  {
   "cell_type": "markdown",
   "id": "9cbb3478",
   "metadata": {},
   "source": [
    "## 1.3 Handling Missing Data\n",
    "Missing data will be handled via imputation. "
   ]
  },
  {
   "cell_type": "code",
   "execution_count": 55,
   "id": "e756496a",
   "metadata": {},
   "outputs": [],
   "source": [
    "from sklearn.impute import SimpleImputer\n",
    "\n",
    "# Initialize the imputer with the desired strategy (mean, median, etc.)\n",
    "imputer = SimpleImputer(missing_values=np.nan, strategy='mean')\n",
    "\n",
    "# Fit the imputer to the specified columns and transform the data\n",
    "X[:, 1:3] = imputer.fit_transform(X[:, 1:3])"
   ]
  },
  {
   "cell_type": "markdown",
   "id": "222797e3",
   "metadata": {},
   "source": [
    "## 1.4 Encoding Categorical Data"
   ]
  },
  {
   "cell_type": "code",
   "execution_count": 56,
   "id": "1a184c58",
   "metadata": {},
   "outputs": [],
   "source": [
    "from sklearn.preprocessing import LabelEncoder, OneHotEncoder\n",
    "labelencoder_X = LabelEncoder()\n",
    "X[ :, 0] = labelencoder_X.fit_transform(X[ :, 0]) "
   ]
  },
  {
   "cell_type": "markdown",
   "id": "576c35ea",
   "metadata": {},
   "source": [
    "### 1.4.1 Creating Dummy Variable"
   ]
  },
  {
   "cell_type": "code",
   "execution_count": 57,
   "id": "e08bb842",
   "metadata": {},
   "outputs": [],
   "source": [
    "# updated to remove the 'categorical_features' argument as it is outdated\n",
    "onehotencoder = OneHotEncoder() \n",
    "X = onehotencoder.fit_transform(X).toarray()\n",
    "labelencoder_Y = LabelEncoder()\n",
    "Y = labelencoder_Y.fit_transform(Y)"
   ]
  },
  {
   "cell_type": "markdown",
   "id": "bd0350b1",
   "metadata": {},
   "source": [
    "## 1.5 Dataset Train-test Split\n",
    "Typical ratio is 80-20 but ratios may vary depending on dataset and context of study."
   ]
  },
  {
   "cell_type": "code",
   "execution_count": 58,
   "id": "b8b3d501",
   "metadata": {},
   "outputs": [],
   "source": [
    "# Updated to currrent semantics\n",
    "from sklearn.model_selection import train_test_split\n",
    "X_train, X_test, Y_train, Y_test = train_test_split(X,Y, test_size = 0.2, random_state = 0)"
   ]
  },
  {
   "cell_type": "markdown",
   "id": "5d2dd82f",
   "metadata": {},
   "source": [
    "## 1.6 Feature Scaling"
   ]
  },
  {
   "cell_type": "code",
   "execution_count": 59,
   "id": "6576c058",
   "metadata": {},
   "outputs": [],
   "source": [
    "from sklearn.preprocessing import StandardScaler\n",
    "sc_X = StandardScaler()\n",
    "X_train = sc_X.fit_transform(X_train)\n",
    "X_test = sc_X.fit_transform(X_test)"
   ]
  }
 ],
 "metadata": {
  "kernelspec": {
   "display_name": "ml-sandbox",
   "language": "python",
   "name": "python3"
  },
  "language_info": {
   "codemirror_mode": {
    "name": "ipython",
    "version": 3
   },
   "file_extension": ".py",
   "mimetype": "text/x-python",
   "name": "python",
   "nbconvert_exporter": "python",
   "pygments_lexer": "ipython3",
   "version": "3.13.5"
  }
 },
 "nbformat": 4,
 "nbformat_minor": 5
}
